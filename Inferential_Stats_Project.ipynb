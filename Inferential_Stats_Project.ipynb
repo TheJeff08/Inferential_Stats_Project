{
 "cells": [
  {
   "cell_type": "code",
   "execution_count": 4,
   "id": "9984fa84-5f8f-430f-a6d2-8f050ecb4d6f",
   "metadata": {},
   "outputs": [],
   "source": [
    "import pandas as pd\n",
    "from scipy import stats as st\n",
    "\n",
    "sales = pd.read_csv('sales data-set.csv')\n",
    "facts = pd.read_csv('Features data set.csv')\n",
    "\n",
    "# This just sets us up to start"
   ]
  },
  {
   "cell_type": "code",
   "execution_count": 5,
   "id": "6d853800-17da-4a76-8efa-530564674a5c",
   "metadata": {},
   "outputs": [
    {
     "name": "stdout",
     "output_type": "stream",
     "text": [
      "<class 'pandas.core.frame.DataFrame'>\n",
      "RangeIndex: 421570 entries, 0 to 421569\n",
      "Data columns (total 5 columns):\n",
      " #   Column        Non-Null Count   Dtype  \n",
      "---  ------        --------------   -----  \n",
      " 0   Store         421570 non-null  int64  \n",
      " 1   Dept          421570 non-null  int64  \n",
      " 2   Date          421570 non-null  object \n",
      " 3   Weekly_Sales  421570 non-null  float64\n",
      " 4   IsHoliday     421570 non-null  bool   \n",
      "dtypes: bool(1), float64(1), int64(2), object(1)\n",
      "memory usage: 13.3+ MB\n",
      "<class 'pandas.core.frame.DataFrame'>\n",
      "RangeIndex: 8190 entries, 0 to 8189\n",
      "Data columns (total 12 columns):\n",
      " #   Column        Non-Null Count  Dtype  \n",
      "---  ------        --------------  -----  \n",
      " 0   Store         8190 non-null   int64  \n",
      " 1   Date          8190 non-null   object \n",
      " 2   Temperature   8190 non-null   float64\n",
      " 3   Fuel_Price    8190 non-null   float64\n",
      " 4   MarkDown1     4032 non-null   float64\n",
      " 5   MarkDown2     2921 non-null   float64\n",
      " 6   MarkDown3     3613 non-null   float64\n",
      " 7   MarkDown4     3464 non-null   float64\n",
      " 8   MarkDown5     4050 non-null   float64\n",
      " 9   CPI           7605 non-null   float64\n",
      " 10  Unemployment  7605 non-null   float64\n",
      " 11  IsHoliday     8190 non-null   bool   \n",
      "dtypes: bool(1), float64(9), int64(1), object(1)\n",
      "memory usage: 712.0+ KB\n"
     ]
    }
   ],
   "source": [
    "sales.info()\n",
    "facts.info()"
   ]
  },
  {
   "cell_type": "code",
   "execution_count": 10,
   "id": "19c39da2-aea3-4538-b99e-38ed665bf468",
   "metadata": {},
   "outputs": [],
   "source": [
    "# Convert the date columns to the correct format in each to ensure later analysis works.\n",
    "\n",
    "sales['Date'] = pd.to_datetime(sales['Date'], format='%d/%m/%Y')\n",
    "facts['Date'] = pd.to_datetime(facts['Date'], format='%d/%m/%Y')\n",
    "\n"
   ]
  },
  {
   "cell_type": "code",
   "execution_count": 12,
   "id": "3cc85faa-6e50-42b1-b3b5-9861104e24e7",
   "metadata": {},
   "outputs": [],
   "source": [
    "# Merge the two dataframes together\n",
    "\n",
    "merged = pd.merge(sales, facts, on = 'Date')\n",
    "\n",
    "# Drop any null values to clean things up for later analysis\n",
    "\n",
    "merged = merged.dropna(subset = [\"Temperature\", \"Weekly_Sales\"])\n",
    "\n",
    "# Then we group by the date and calc the mean of Weekly Sales\n",
    "\n",
    "sales_calc = merged.groupby('Date')['Weekly_Sales'].mean()\n",
    "\n",
    "# Create a new dataframe with just the dates, sales and temps.\n",
    "analysis_df = pd.DataFrame({'Date': sales_calc.index, 'Weekly_Sales': sales_calc.values})\n",
    "analysis_df = pd.merge(analysis_df, facts[['Date', 'Temperature']], on='Date')"
   ]
  },
  {
   "cell_type": "code",
   "execution_count": 13,
   "id": "7b37457c-3344-4dd6-b109-db8017504fa9",
   "metadata": {},
   "outputs": [
    {
     "name": "stdout",
     "output_type": "stream",
     "text": [
      "Correlation between sales and temperature: -0.10730756282193221\n"
     ]
    }
   ],
   "source": [
    "# We can take this new df and calc to see if there's a correlation between temp and sales\n",
    "\n",
    "correlation = analysis_df['Weekly_Sales'].corr(analysis_df['Temperature'])\n",
    "print(f\"Correlation between sales and temperature: {correlation}\")"
   ]
  },
  {
   "cell_type": "code",
   "execution_count": 14,
   "id": "322c2871-d76a-4e98-8ada-ba2f4ef13480",
   "metadata": {},
   "outputs": [
    {
     "name": "stdout",
     "output_type": "stream",
     "text": [
      "T-statistic: -8.214634611638882, P-value: 2.550149915407261e-16\n"
     ]
    }
   ],
   "source": [
    "# Trying to do a t-test\n",
    "# First, create high and low temp categories.\n",
    "\n",
    "median_temp = analysis_df['Temperature'].median()\n",
    "analysis_df['Temp_Category'] = ['High' if temp > median_temp else 'Low' for temp in analysis_df['Temperature']]\n",
    "\n",
    "# Perform t-test\n",
    "high_temp_sales = analysis_df[analysis_df['Temp_Category'] == 'High']['Weekly_Sales']\n",
    "low_temp_sales = analysis_df[analysis_df['Temp_Category'] == 'Low']['Weekly_Sales']\n",
    "\n",
    "t_stat, p_value = st.ttest_ind(high_temp_sales, low_temp_sales)\n",
    "print(f\"T-statistic: {t_stat}, P-value: {p_value}\")"
   ]
  },
  {
   "cell_type": "markdown",
   "id": "2ebfd236-885b-4974-a41c-b144aab62b64",
   "metadata": {},
   "source": [
    "So, what we can draw from this is a few things.\n",
    "There's a slight negative correlation between temp and sales.  The -0.107... tells us that when temp goes up, sales go down, but the correlation being close to zero tells us that this relationship is weak at best.  Just as we found from the general analysis with this data graphing it in matplotlib, temp doesn't really tell us much about sales.\n",
    "\n",
    "Similarly, as we define a high group and a low group of temp, and do a ttest of these two groups related to sales, we get a high p value, that overall tells us that we ought not reject H0, which in this case would be that temperature change doesn't affect sales."
   ]
  },
  {
   "cell_type": "code",
   "execution_count": 20,
   "id": "cfcf2453-137f-40f2-b17a-0f5d14eb7767",
   "metadata": {},
   "outputs": [],
   "source": [
    "analysis_df.to_csv('analysis_temp_sales.csv', index = False)"
   ]
  },
  {
   "cell_type": "code",
   "execution_count": null,
   "id": "6b5fa59a-0ccb-41a0-a8b4-868a29df48c8",
   "metadata": {},
   "outputs": [],
   "source": []
  }
 ],
 "metadata": {
  "kernelspec": {
   "display_name": "Python 3 (ipykernel)",
   "language": "python",
   "name": "python3"
  },
  "language_info": {
   "codemirror_mode": {
    "name": "ipython",
    "version": 3
   },
   "file_extension": ".py",
   "mimetype": "text/x-python",
   "name": "python",
   "nbconvert_exporter": "python",
   "pygments_lexer": "ipython3",
   "version": "3.12.3"
  }
 },
 "nbformat": 4,
 "nbformat_minor": 5
}
